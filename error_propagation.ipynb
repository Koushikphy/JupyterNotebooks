{
 "cells": [
  {
   "cell_type": "markdown",
   "metadata": {},
   "source": [
    "So we have this following dataset and we are going to fit this with a second order poynomial"
   ]
  },
  {
   "cell_type": "code",
   "execution_count": 2,
   "metadata": {},
   "outputs": [],
   "source": [
    "x = [6.230825,6.248279,6.265732]\n",
    "y = [0.312949,0.309886,0.306639472]"
   ]
  },
  {
   "cell_type": "markdown",
   "metadata": {},
   "source": [
    "As we are fitting 3 points with a 2 degree polynomial, any original x value should exactly poroduce the same corresponding y value. Here, we are going to verify for x[2], which should produce the exact value of y[2] "
   ]
  },
  {
   "cell_type": "code",
   "execution_count": 3,
   "metadata": {},
   "outputs": [],
   "source": [
    "toCheck = 6.265732\n",
    "result = 0.306639472"
   ]
  },
  {
   "cell_type": "markdown",
   "metadata": {},
   "source": [
    "now we are going to apply different methods in different way to fit the data and then verify the goodness of the fit. A correct method will produce 0% error"
   ]
  },
  {
   "cell_type": "code",
   "execution_count": 4,
   "metadata": {},
   "outputs": [],
   "source": [
    "def evaluateValue(coeff,x):\n",
    "    c,b,a = coeff\n",
    "    val = a+b*x+c*x**2 \n",
    "    act = 0.306639472\n",
    "    error=  np.abs(act-val)*100/act\n",
    "    print \"Value = {:.9f} Error = {:.2f}%\".format(val,error)"
   ]
  },
  {
   "cell_type": "markdown",
   "metadata": {},
   "source": [
    "lets start with the solution method using soving system of linear equation using Cramer's rule and check its solution"
   ]
  },
  {
   "cell_type": "code",
   "execution_count": 5,
   "metadata": {},
   "outputs": [
    {
     "name": "stdout",
     "output_type": "stream",
     "text": "Value = 0.585786477 Error = 91.03%\n"
    }
   ],
   "source": [
    "def determinantAlt(a,b,c,d,e,f,g,h,i):\n",
    "    return a*e*i - a*f*h - b*d*i +b*g*f + c*d*h - c*e*g\n",
    "\n",
    "a = b = c = d = e = m = n = p = 0\n",
    "a = len(x)\n",
    "for i,j in zip(x,y):\n",
    "        b += i\n",
    "        c += i**2\n",
    "        d += i**3\n",
    "        e += i**4\n",
    "        m += j\n",
    "        n += j*i\n",
    "        p += j*i**2\n",
    "det = determinantAlt(a,b,c,b,c,d,c,d,e)\n",
    "c0 = determinantAlt(m,b,c,n,c,d,p,d,e)/det\n",
    "c1 = determinantAlt(a,m,c,b,n,d,c,p,e)/det\n",
    "c2 = determinantAlt(a,b,m,b,c,n,c,d,p)/det\n",
    "# using explicit determinat math, without brackets, gives 91.03% error, \n",
    "# due to float precision error for large and small value multiplication\n",
    "evaluateValue([c2,c1,c0], toCheck)"
   ]
  },
  {
   "cell_type": "markdown",
   "metadata": {},
   "source": [
    "Wohhh !!! 90.73 % error. Did I typed the formula wrong ! Nope. Then what is going on. Let's try the same just by rearranging the formula a little bit"
   ]
  },
  {
   "cell_type": "code",
   "execution_count": 6,
   "metadata": {},
   "outputs": [
    {
     "name": "stdout",
     "output_type": "stream",
     "text": "Value = 0.308333580 Error = 0.55%\n"
    }
   ],
   "source": [
    "def determinant(a,b,c,d,e,f,g,h,i):\n",
    "    return a*(e*i - f*h) - b*(d*i - g*f) + c*(d*h - e*g)\n",
    "\n",
    "\n",
    "a = b = c = d = e = m = n = p = 0\n",
    "a = len(x)\n",
    "for i,j in zip(x,y):\n",
    "        b += i\n",
    "        c += i**2\n",
    "        d += i**3\n",
    "        e += i**4\n",
    "        m += j\n",
    "        n += j*i\n",
    "        p += j*i**2\n",
    "det = determinant(a,b,c,b,c,d,c,d,e)\n",
    "c0 = determinant(m,b,c,n,c,d,p,d,e)/det\n",
    "c1 = determinant(a,m,c,b,n,d,c,p,e)/det\n",
    "c2 = determinant(a,b,m,b,c,n,c,d,p)/det\n",
    "\n",
    "\n",
    "evaluateValue([c2,c1,c0], toCheck)\n"
   ]
  },
  {
   "cell_type": "markdown",
   "metadata": {},
   "source": [
    "Huh! Not the mathematics but there's something wrong with the programming here. So, what's the problem"
   ]
  },
  {
   "cell_type": "markdown",
   "metadata": {},
   "source": [
    "To understand whats going on you have to learn something called error propagation and how computer does floating point operations. (For an in depth discussion read https://www.itu.dk/~sestoft/bachelor/IEEE754_article.pdf). You see computer can't store floating point numbers accurately all the time and sometimes it introduces a (tiny) error to fit the number in limited bits (https://www.h-schmidt.net/FloatConverter/IEEE754.html). And when you are working with very small number this can effect how the error propagates.\n",
    "Now check the values the determinant quantities,"
   ]
  },
  {
   "cell_type": "code",
   "execution_count": 7,
   "metadata": {},
   "outputs": [
    {
     "name": "stdout",
     "output_type": "stream",
     "text": "(3, 18.744836, 117.12356813829001, 731.8283056811686, 4572.738547313946, 0.9294744720000001, 5.807505391292503, 36.28641270376207)\n1.09134035142e-10\n2.32830643654e-10\n"
    }
   ],
   "source": [
    "print (a,b,c,d,e,m,n,p)\n",
    "print determinant(a,b,c,b,c,d,c,d,e)\n",
    "print determinantAlt(a,b,c,b,c,d,c,d,e)"
   ]
  },
  {
   "cell_type": "markdown",
   "metadata": {},
   "source": [
    "See, theres a considerable difference in order of values of the variable and the determinant is in the order of `e-10`. This very small number calculations affects how the error propagates. Though both the determinant formulas are essentially same and they should produce the exact result, due to this error propagation we get slightly different result. And when these small number is used in division, they give very different result"
   ]
  },
  {
   "cell_type": "markdown",
   "metadata": {},
   "source": [
    "One way to minimize this kind of error is to make the numbers in calculation, of same order. This can be done by normalizing the input, "
   ]
  },
  {
   "cell_type": "code",
   "execution_count": 8,
   "metadata": {},
   "outputs": [],
   "source": [
    "me = sum(x) / len(x)\n",
    "xx = [pt - me for pt in x]\n",
    "toCheck = x[2] - me"
   ]
  },
  {
   "cell_type": "markdown",
   "execution_count": null,
   "metadata": {},
   "outputs": [],
   "source": [
    "Now if we calculate the quantities,  "
   ]
  },
  {
   "cell_type": "code",
   "execution_count": 9,
   "metadata": {},
   "outputs": [
    {
     "name": "stdout",
     "output_type": "stream",
     "text": "Value = 0.306639472 Error = 0.00%\nValue = 0.306639472 Error = 0.00%\n"
    }
   ],
   "source": [
    "a = b = c = d = e = m = n = p = 0\n",
    "a = len(xx)\n",
    "for i,j in zip(xx,y):\n",
    "        b += i\n",
    "        c += i**2\n",
    "        d += i**3\n",
    "        e += i**4\n",
    "        m += j\n",
    "        n += j*i\n",
    "        p += j*i**2\n",
    "det = determinantAlt(a,b,c,b,c,d,c,d,e)\n",
    "c0 = determinantAlt(m,b,c,n,c,d,p,d,e)/det\n",
    "c1 = determinantAlt(a,m,c,b,n,d,c,p,e)/det\n",
    "c2 = determinantAlt(a,b,m,b,c,n,c,d,p)/det\n",
    "evaluateValue([c2,c1,c0], toCheck)\n",
    "\n",
    "\n",
    "a = b = c = d = e = m = n = p = 0\n",
    "a = len(xx)\n",
    "for i,j in zip(xx,y):\n",
    "        b += i\n",
    "        c += i**2\n",
    "        d += i**3\n",
    "        e += i**4\n",
    "        m += j\n",
    "        n += j*i\n",
    "        p += j*i**2\n",
    "det = determinant(a,b,c,b,c,d,c,d,e)\n",
    "c0 = determinant(m,b,c,n,c,d,p,d,e)/det\n",
    "c1 = determinant(a,m,c,b,n,d,c,p,e)/det\n",
    "c2 = determinant(a,b,m,b,c,n,c,d,p)/det\n",
    "\n",
    "\n",
    "evaluateValue([c2,c1,c0], toCheck)"
   ]
  },
  {
   "cell_type": "code",
   "execution_count": null,
   "metadata": {},
   "outputs": [],
   "source": []
  }
 ],
 "metadata": {
  "kernelspec": {
   "display_name": "Python 2",
   "language": "python",
   "name": "python2"
  },
  "language_info": {
   "codemirror_mode": {
    "name": "ipython",
    "version": 2
   },
   "file_extension": ".py",
   "mimetype": "text/x-python",
   "name": "python",
   "nbconvert_exporter": "python",
   "pygments_lexer": "ipython2",
   "version": "2.7.15+"
  }
 },
 "nbformat": 4,
 "nbformat_minor": 2
}